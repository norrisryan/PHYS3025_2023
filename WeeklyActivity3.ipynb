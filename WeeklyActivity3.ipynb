{
  "nbformat": 4,
  "nbformat_minor": 0,
  "metadata": {
    "colab": {
      "provenance": [],
      "include_colab_link": true
    },
    "kernelspec": {
      "name": "python3",
      "display_name": "Python 3"
    }
  },
  "cells": [
    {
      "cell_type": "markdown",
      "metadata": {
        "id": "view-in-github",
        "colab_type": "text"
      },
      "source": [
        "<a href=\"https://colab.research.google.com/github/norrisryan/PHYS3025_2023/blob/main/WeeklyActivity3.ipynb\" target=\"_parent\"><img src=\"https://colab.research.google.com/assets/colab-badge.svg\" alt=\"Open In Colab\"/></a>"
      ]
    },
    {
      "cell_type": "markdown",
      "metadata": {
        "id": "KB2vZxdmLxG6"
      },
      "source": [
        "# Searching for Europium using Stellar Spectroscopy\n",
        "This activity allows students to explore how to find the relative abundance of a given element using the spectral features in starlight. The spectra used here were collected by teacher team in the summer of 2019 at McDonald Observatory using the Sandiford Echelle Spectrograph attached to the 2.1 meter Otto Struve Telescope.\n",
        "\n",
        "These spectra are part of a larger project to collect data on evolved sun-like stars with low abundances of the lanthanide elements. For more information on this class of stars, see the [PASTEL catalog](https://vizier.u-strasbg.fr/viz-bin/VizieR?-source=B/pastel) and the original paper on the PASTEL catalog [doi: 10.1051/0004-6361/201014247](http://doi.org/10.1051/0004-6361/201014247)."
      ]
    },
    {
      "cell_type": "markdown",
      "metadata": {
        "id": "pICuGv9RGtz7"
      },
      "source": [
        "# Using a Google Colab\n",
        "This assignment combines a document and code into one thing. This system is based on the stand-alone Jupyter Notebook system but is running on Google Drive. Google calls this the Google Colab Notebook. We write text, equations, and such but also run blocks of Python code all together or individually.\n",
        "\n",
        "Go ahead and double click the code block below and change the message. Don't remove the single quotes (`' '`) around your message."
      ]
    },
    {
      "cell_type": "code",
      "metadata": {
        "id": "BnK84KYOGkTX",
        "colab": {
          "base_uri": "https://localhost:8080/"
        },
        "outputId": "60a85d61-5d32-4b12-ff3e-5ad8c00d3802"
      },
      "source": [
        "# This is Python block\n",
        "\n",
        "# Here is a variable.\n",
        "message = 'Hello World!'\n",
        "\n",
        "# This line of Python will print the message when you hit the play button.\n",
        "print(message)"
      ],
      "execution_count": null,
      "outputs": [
        {
          "output_type": "stream",
          "text": [
            "Hello World!\n"
          ],
          "name": "stdout"
        }
      ]
    },
    {
      "cell_type": "markdown",
      "metadata": {
        "id": "dWKaYna-FiCq"
      },
      "source": [
        "## Who are you?\n",
        "This is a text block. It allows you to write text but doesn't run Python code. Go ahead and put all your information in this block so we know who is completing the assignment."
      ]
    },
    {
      "cell_type": "markdown",
      "metadata": {
        "id": "exYOOvxZpt6k"
      },
      "source": [
        "**Double click here and put your name (s), the date, and course information.**\n",
        "\n",
        "Answer:"
      ]
    },
    {
      "cell_type": "markdown",
      "metadata": {
        "id": "oM7uUsh3hAO7"
      },
      "source": [
        "# Spectroscopy"
      ]
    },
    {
      "cell_type": "markdown",
      "metadata": {
        "id": "Yx0JvZDqNfOz"
      },
      "source": [
        "<img src=\"https://solarsystem.nasa.gov/rails/active_storage/disk/eyJfcmFpbHMiOnsibWVzc2FnZSI6IkJBaDdDVG9JYTJWNVNTSXBPR0kwTkROa1ltTXROekU1WWkwMFpqUXhMVGxqT0RZdFpqUmxNMkpoTURJd1l6RTJCam9HUlZRNkVHUnBjM0J2YzJsMGFXOXVTU0p6YVc1c2FXNWxPeUJtYVd4bGJtRnRaVDBpYUdsbmFISmxjMjlzZFhScGIyNXpiMnhoY25Od1pXTjBjblZ0TVRJd01IY3VhbkJuSWpzZ1ptbHNaVzVoYldVcVBWVlVSaTA0Snlkb2FXZG9jbVZ6YjJ4MWRHbHZibk52YkdGeWMzQmxZM1J5ZFcweE1qQXdkeTVxY0djR093WlVPaEZqYjI1MFpXNTBYM1I1Y0dWSklnOXBiV0ZuWlM5cWNHVm5CanNHVkRvUmMyVnlkbWxqWlY5dVlXMWxPZ3BzYjJOaGJBPT0iLCJleHAiOm51bGwsInB1ciI6ImJsb2Jfa2V5In19--fd26922aab86a326161de07cb235162289633866/highresolutionsolarspectrum1200w.jpg\" width=\"640\"/><br />Figure 1 - Visible light spectrum of the sun. (NASA)\n",
        "\n",
        "Light from objects in space can tell us a lot about the object. If we use that light to do spectroscopy, we can determine the temperature of the object, the nature and speed of its motion, and we can find out what its made of. We are exploring the chemical makeup of some stars in this project.\n",
        "\n",
        "If you need some background on what a spectrum is and what it can do for astronomers, check out this [link](https://openstax.org/books/astronomy/pages/5-3-spectroscopy-in-astronomy)."
      ]
    },
    {
      "cell_type": "markdown",
      "metadata": {
        "id": "5cv6pQ4IO_MF"
      },
      "source": [
        "## Question 1\n",
        "**How does a spectrometer or spectrograph turn starlight into colors? You can use the link above for a hint.**"
      ]
    },
    {
      "cell_type": "markdown",
      "metadata": {
        "id": "d1vRRmBhqF5O"
      },
      "source": [
        "Double click here to answer:"
      ]
    },
    {
      "cell_type": "markdown",
      "metadata": {
        "id": "k-kAlcz0Kj2X"
      },
      "source": [
        "## The Sandiford Echelle Spectrograph\n",
        "\n",
        "The spectra we are analyzing were collected using the historic Otto Struve Telescope at McDonald Observatory with the Sandiford Echelle Spectrometer.\n",
        "\n",
        "<img src=\"https://i1.wp.com/www.jimmynewland.com/wp/wp-content/uploads/2019/12/IMG_2079-scaled.jpeg\" width=\"640\" /><br />Figure 2 - Sandiford Echelle Spectrograph at cassegrain focus on Otto Struve Telescope, summer 2019.\n"
      ]
    },
    {
      "cell_type": "markdown",
      "metadata": {
        "id": "V1ONbBi1NJDT"
      },
      "source": [
        "## What is a spectrum?\n",
        "This is the spectrum of a star. The y-axis represents the amount of light and the x-axis represents the wavelength of the particular feature. Spectroscopy can tell us about objects in space. For instance, using nothing more than the light from the star and some math, you can get a sense of the relative amount of a particular element in a star's atmosphere by looking at the absorption line. That is what we are doing today.\n",
        "\n",
        "<img src=\"https://i0.wp.com/jimmynewland.com/astronomy/pastel/iraf-hd141531.png\" width=\"640\" /><br />Figure 3 - IRAF spectrum plot for star HD 141531 from summer 2019 observing run.\n",
        "\n",
        "\n",
        "When one star has more of an element in its atmosphere than another, the absorption line or dips in in the light will be deeper because those atoms took some of the light leaving the star and absorbed it so those photons won't make it to us.\n",
        "\n",
        "For our data, the units are a really strange. Flux is a unit of power which is energy per time unit. Here the our flux is relative which means 1.0 would be brightest part of the light from the star and the dips are where the light is less bright because it is being absorbed. Notice the brightness varies by wavelength. That is how we are able to look for the signature of particular elements. Specific elements absorb star light at only specific wavelengths. The dips are the fingerprints of the element.\n",
        "\n",
        "You will use code to analyze some absorption features for a few stars. We are looking for the atoms nickel and europium."
      ]
    },
    {
      "cell_type": "markdown",
      "metadata": {
        "id": "YBQHR6bqTus0"
      },
      "source": [
        "# Searching for Europium\n",
        "\n",
        "Elements beyond lithium on the periodic table are produced by stars. Some of the heaviest elements come from the most awesome stellar explosions. Supernovae and kilonovae can make lots of the heavy atoms all at once. After the debris from those explosions get swept up in new stars, these atoms can be found floating around in the newer star.\n",
        "<img src=\"https://upload.wikimedia.org/wikipedia/commons/thumb/3/31/Nucleosynthesis_periodic_table.svg/2880px-Nucleosynthesis_periodic_table.svg.png\" width=640 /><br />Figure 4 - A stellar nucleosynthesis version of the periodic table of the elements. (Wikimedia, 2020)\n",
        "\n",
        "\n",
        "These spectra we are analyzing here are part of a stellar survey looking for the presence of the lathanide elements. One element, europium, has a signature that can seen using spectroscopy.\n",
        "\n",
        "<img src=\"https://i2.wp.com/www.jimmynewland.com/wp/wp-content/uploads/2019/12/Screen-Shot-2019-12-29-at-11.30.51-AM.png?resize=768%2C459&ssl=1\" width=640 /><br />Figure 5 - Metallicity constraints for stellar observational targets. (Sneden, 2019)\n",
        "\n",
        "\n",
        "5 stellar spectra are stored in a Google spreadsheet and you are going to use code to access, analyze, and plot the data. You will compare how much europium these stars have by using the nickel absorption line as a measuring stick."
      ]
    },
    {
      "cell_type": "markdown",
      "metadata": {
        "id": "Y05C-hGcF59t"
      },
      "source": [
        "# Allowing your code to access your Google Drive\n",
        "Start by saving a copy of the [data from the spreadsheet](https://docs.google.com/spreadsheets/d/e/2PACX-1vSvozaTH8wjxtIfXuS3cxDlypNQVePOHltom1jmJosvPWdLVD3daMIAFGZ_H9-COOe9W8RJMzJS2B8c/pubhtml) to your own Google Drive. If you are doing this as a group, make sure the person with the copy of the data shares access with everyone in the group so everyone can access the data.\n",
        "\n",
        "Click the run icon for ***each*** block of code to make it run.\n",
        "\n",
        "The block below asks you to click and link and copy and paste a verification code to allow your code to access your Google Drive so we can open the spreadsheet containing all the data for our target stars."
      ]
    },
    {
      "cell_type": "code",
      "metadata": {
        "id": "8NGQUjqxNjI7"
      },
      "source": [
        "# Allow for access to Google Sheets dataset\n",
        "# Allow for access to Google Sheets dataset\n",
        "\n",
        "from google.colab import auth\n",
        "\n",
        "auth.authenticate_user()\n",
        "\n",
        "import gspread\n",
        "\n",
        "from google.auth import default\n",
        "\n",
        "creds,_ =default()\n",
        "\n",
        "gc = gspread.authorize(creds)"
      ],
      "execution_count": 1,
      "outputs": []
    },
    {
      "cell_type": "markdown",
      "metadata": {
        "id": "KhdTmUmaI75J"
      },
      "source": [
        "**_Be sure to replace the Google Sheets URL with a link to your copy of the spreadsheet._**"
      ]
    },
    {
      "cell_type": "code",
      "metadata": {
        "id": "rWqfSIVZPcs8"
      },
      "source": [
        "# Put the URL for your copy of the Google Sheet here.\n",
        "wb = gc.open_by_url('https://docs.google.com/spreadsheets/d/1ns1t3TZBdeFexAfBa6DVSUkqKW6g7Gz2I48RrMmRwbM/edit#gid=1134205444')"
      ],
      "execution_count": 2,
      "outputs": []
    },
    {
      "cell_type": "markdown",
      "metadata": {
        "id": "Djx8ND45UZC-"
      },
      "source": [
        "# Installing SpecUtils"
      ]
    },
    {
      "cell_type": "markdown",
      "metadata": {
        "id": "H714D90-UhlB"
      },
      "source": [
        "This step imports a spectroscopy library into Google Colab. It's possible that you will need to select the menu item ***`Runtime->Restart and Run All`*** after this step finishes for the first time. This is only true when you first start the workbook. Yes it is annoying."
      ]
    },
    {
      "cell_type": "code",
      "metadata": {
        "id": "94tbEiMbut0a",
        "colab": {
          "base_uri": "https://localhost:8080/"
        },
        "outputId": "b942fc75-d4ef-4d6c-e2be-e410e34a96e4"
      },
      "source": [
        "# Install SpecUtils usin pip\n",
        "!pip install specutils"
      ],
      "execution_count": 3,
      "outputs": [
        {
          "output_type": "stream",
          "name": "stdout",
          "text": [
            "Collecting specutils\n",
            "  Downloading specutils-1.11.0-py3-none-any.whl (203 kB)\n",
            "\u001b[?25l     \u001b[90m━━━━━━━━━━━━━━━━━━━━━━━━━━━━━━━━━━━━━━━━\u001b[0m \u001b[32m0.0/203.2 kB\u001b[0m \u001b[31m?\u001b[0m eta \u001b[36m-:--:--\u001b[0m\r\u001b[2K     \u001b[91m━━━━━━━━━━━━━━━━━━\u001b[0m\u001b[90m╺\u001b[0m\u001b[90m━━━━━━━━━━━━━━━━━━━━━\u001b[0m \u001b[32m92.2/203.2 kB\u001b[0m \u001b[31m2.6 MB/s\u001b[0m eta \u001b[36m0:00:01\u001b[0m\r\u001b[2K     \u001b[90m━━━━━━━━━━━━━━━━━━━━━━━━━━━━━━━━━━━━━━━\u001b[0m \u001b[32m203.2/203.2 kB\u001b[0m \u001b[31m3.7 MB/s\u001b[0m eta \u001b[36m0:00:00\u001b[0m\n",
            "\u001b[?25hRequirement already satisfied: numpy>=1.19 in /usr/local/lib/python3.10/dist-packages (from specutils) (1.23.5)\n",
            "Requirement already satisfied: scipy>=1.3 in /usr/local/lib/python3.10/dist-packages (from specutils) (1.11.2)\n",
            "Requirement already satisfied: astropy>=5.1 in /usr/local/lib/python3.10/dist-packages (from specutils) (5.3.3)\n",
            "Collecting gwcs>=0.18 (from specutils)\n",
            "  Downloading gwcs-0.19.0-py3-none-any.whl (110 kB)\n",
            "\u001b[2K     \u001b[90m━━━━━━━━━━━━━━━━━━━━━━━━━━━━━━━━━━━━━━━\u001b[0m \u001b[32m110.4/110.4 kB\u001b[0m \u001b[31m6.9 MB/s\u001b[0m eta \u001b[36m0:00:00\u001b[0m\n",
            "\u001b[?25hCollecting asdf-astropy>=0.3 (from specutils)\n",
            "  Downloading asdf_astropy-0.4.0-py3-none-any.whl (73 kB)\n",
            "\u001b[2K     \u001b[90m━━━━━━━━━━━━━━━━━━━━━━━━━━━━━━━━━━━━━━━━\u001b[0m \u001b[32m73.1/73.1 kB\u001b[0m \u001b[31m7.5 MB/s\u001b[0m eta \u001b[36m0:00:00\u001b[0m\n",
            "\u001b[?25hCollecting asdf>=2.14.4 (from specutils)\n",
            "  Downloading asdf-2.15.1-py3-none-any.whl (961 kB)\n",
            "\u001b[2K     \u001b[90m━━━━━━━━━━━━━━━━━━━━━━━━━━━━━━━━━━━━━━\u001b[0m \u001b[32m961.4/961.4 kB\u001b[0m \u001b[31m14.4 MB/s\u001b[0m eta \u001b[36m0:00:00\u001b[0m\n",
            "\u001b[?25hCollecting ndcube>=2.0 (from specutils)\n",
            "  Downloading ndcube-2.1.3-py3-none-any.whl (124 kB)\n",
            "\u001b[2K     \u001b[90m━━━━━━━━━━━━━━━━━━━━━━━━━━━━━━━━━━━━━━━\u001b[0m \u001b[32m124.0/124.0 kB\u001b[0m \u001b[31m7.6 MB/s\u001b[0m eta \u001b[36m0:00:00\u001b[0m\n",
            "\u001b[?25hCollecting asdf-standard>=1.0.1 (from asdf>=2.14.4->specutils)\n",
            "  Downloading asdf_standard-1.0.3-py3-none-any.whl (71 kB)\n",
            "\u001b[2K     \u001b[90m━━━━━━━━━━━━━━━━━━━━━━━━━━━━━━━━━━━━━━━━\u001b[0m \u001b[32m71.8/71.8 kB\u001b[0m \u001b[31m7.8 MB/s\u001b[0m eta \u001b[36m0:00:00\u001b[0m\n",
            "\u001b[?25hCollecting asdf-transform-schemas>=0.3 (from asdf>=2.14.4->specutils)\n",
            "  Downloading asdf_transform_schemas-0.3.0-py3-none-any.whl (195 kB)\n",
            "\u001b[2K     \u001b[90m━━━━━━━━━━━━━━━━━━━━━━━━━━━━━━━━━━━━━━\u001b[0m \u001b[32m195.6/195.6 kB\u001b[0m \u001b[31m11.2 MB/s\u001b[0m eta \u001b[36m0:00:00\u001b[0m\n",
            "\u001b[?25hCollecting asdf-unit-schemas>=0.1 (from asdf>=2.14.4->specutils)\n",
            "  Downloading asdf_unit_schemas-0.1.0-py3-none-any.whl (11 kB)\n",
            "Requirement already satisfied: importlib-metadata>=4.11.4 in /usr/local/lib/python3.10/dist-packages (from asdf>=2.14.4->specutils) (6.8.0)\n",
            "Collecting jmespath>=0.6.2 (from asdf>=2.14.4->specutils)\n",
            "  Downloading jmespath-1.0.1-py3-none-any.whl (20 kB)\n",
            "Requirement already satisfied: packaging>=19 in /usr/local/lib/python3.10/dist-packages (from asdf>=2.14.4->specutils) (23.1)\n",
            "Requirement already satisfied: pyyaml>=5.4.1 in /usr/local/lib/python3.10/dist-packages (from asdf>=2.14.4->specutils) (6.0.1)\n",
            "Collecting semantic-version>=2.8 (from asdf>=2.14.4->specutils)\n",
            "  Downloading semantic_version-2.10.0-py2.py3-none-any.whl (15 kB)\n",
            "Requirement already satisfied: attrs>=20.1.0 in /usr/local/lib/python3.10/dist-packages (from asdf>=2.14.4->specutils) (23.1.0)\n",
            "Requirement already satisfied: jsonschema>=4.8 in /usr/local/lib/python3.10/dist-packages (from asdf>=2.14.4->specutils) (4.19.0)\n",
            "Collecting asdf-coordinates-schemas>=0.1 (from asdf-astropy>=0.3->specutils)\n",
            "  Downloading asdf_coordinates_schemas-0.2.0-py3-none-any.whl (19 kB)\n",
            "Requirement already satisfied: pyerfa>=2.0 in /usr/local/lib/python3.10/dist-packages (from astropy>=5.1->specutils) (2.0.0.3)\n",
            "Collecting asdf-wcs-schemas (from gwcs>=0.18->specutils)\n",
            "  Downloading asdf_wcs_schemas-0.2.0-py3-none-any.whl (30 kB)\n",
            "Requirement already satisfied: zipp>=0.5 in /usr/local/lib/python3.10/dist-packages (from importlib-metadata>=4.11.4->asdf>=2.14.4->specutils) (3.16.2)\n",
            "Requirement already satisfied: jsonschema-specifications>=2023.03.6 in /usr/local/lib/python3.10/dist-packages (from jsonschema>=4.8->asdf>=2.14.4->specutils) (2023.7.1)\n",
            "Requirement already satisfied: referencing>=0.28.4 in /usr/local/lib/python3.10/dist-packages (from jsonschema>=4.8->asdf>=2.14.4->specutils) (0.30.2)\n",
            "Requirement already satisfied: rpds-py>=0.7.1 in /usr/local/lib/python3.10/dist-packages (from jsonschema>=4.8->asdf>=2.14.4->specutils) (0.10.2)\n",
            "Installing collected packages: semantic-version, jmespath, asdf-standard, asdf-unit-schemas, asdf-transform-schemas, asdf-wcs-schemas, asdf, asdf-coordinates-schemas, asdf-astropy, gwcs, ndcube, specutils\n",
            "Successfully installed asdf-2.15.1 asdf-astropy-0.4.0 asdf-coordinates-schemas-0.2.0 asdf-standard-1.0.3 asdf-transform-schemas-0.3.0 asdf-unit-schemas-0.1.0 asdf-wcs-schemas-0.2.0 gwcs-0.19.0 jmespath-1.0.1 ndcube-2.1.3 semantic-version-2.10.0 specutils-1.11.0\n"
          ]
        }
      ]
    },
    {
      "cell_type": "markdown",
      "metadata": {
        "id": "tCdT4bJrHAdJ"
      },
      "source": [
        "# Importing NumPy and MatPlotLib"
      ]
    },
    {
      "cell_type": "markdown",
      "metadata": {
        "id": "GNul1UE6U_Gc"
      },
      "source": [
        "The *import* step is different than installing. Here libraries already a part of Google Colab are made available to this workbook."
      ]
    },
    {
      "cell_type": "code",
      "metadata": {
        "id": "i7sBClwHN1xU",
        "colab": {
          "base_uri": "https://localhost:8080/"
        },
        "outputId": "2103d2ae-dd9f-4726-b497-c42dc0ed0244"
      },
      "source": [
        "# NumPy is a common library for handling mathy things.\n",
        "import numpy as np\n",
        "\n",
        "# SciPy allows for things like interpolation and curve fitting.\n",
        "from scipy.interpolate import make_interp_spline, BSpline\n",
        "\n",
        "# MatPlotLib is the most common way to visualize data in Python.\n",
        "import matplotlib.pyplot as plt\n",
        "plt.style.use('seaborn-talk')\n",
        "\n",
        "# MatPlotLib tools for drawing on plots.\n",
        "import matplotlib.transforms as mtransforms\n",
        "from matplotlib.collections import PatchCollection\n",
        "from matplotlib.patches import Rectangle"
      ],
      "execution_count": 4,
      "outputs": [
        {
          "output_type": "stream",
          "name": "stderr",
          "text": [
            "<ipython-input-4-200d7ef9daa0>:9: MatplotlibDeprecationWarning: The seaborn styles shipped by Matplotlib are deprecated since 3.6, as they no longer correspond to the styles shipped by seaborn. However, they will remain available as 'seaborn-v0_8-<style>'. Alternatively, directly use the seaborn API instead.\n",
            "  plt.style.use('seaborn-talk')\n"
          ]
        }
      ]
    },
    {
      "cell_type": "code",
      "metadata": {
        "id": "5G7ldiU_wVQJ"
      },
      "source": [
        "# AstroPy allows Python to perform common astronomial tasks.\n",
        "from astropy.io import fits\n",
        "from astropy import units as u\n",
        "from astropy.visualization import quantity_support\n",
        "quantity_support()\n",
        "from astropy.utils.data import download_file"
      ],
      "execution_count": 5,
      "outputs": []
    },
    {
      "cell_type": "markdown",
      "metadata": {
        "id": "iPhFgTFQJU65"
      },
      "source": [
        "#### ***If you get an error here the first time after installing specutils, select the 'Runtime->Restart and run all' menu item and try again.***"
      ]
    },
    {
      "cell_type": "code",
      "metadata": {
        "id": "gfqe8qRGuSjV"
      },
      "source": [
        "# Here we access the parts of specutils we'll need.\n",
        "from specutils import Spectrum1D\n",
        "from specutils import SpectralRegion\n",
        "from specutils.analysis import equivalent_width\n",
        "from specutils.analysis import fwhm"
      ],
      "execution_count": 6,
      "outputs": []
    },
    {
      "cell_type": "markdown",
      "metadata": {
        "id": "mQGP7QOXHIka"
      },
      "source": [
        "# Copying the Data into Your Code"
      ]
    },
    {
      "cell_type": "markdown",
      "metadata": {
        "id": "v91XST8gWqxG"
      },
      "source": [
        "Each sheet in the spreadsheet contains the data for one star.  Use the example for opening the first sheet to open all 5. When we plot a spectrum, the wavelength values are plotted along the x-axis and the flux or amount of light from the star is plotted along the y-axis. The data from sheet1 is stored in 2 lists. One is called **`wave1`** and contains the wavelengths for the x-axis stored as Angstroms. The other is called **`flux1`** and contains the data for the y-axis. The last variable you need for each star is a name to use a label. You can see **`label1`** is the string **`'HD141531'`**\n",
        "\n",
        "The star names are:\n",
        "*   **`HD141531`**\n",
        "*   **`HD165195`**\n",
        "*   **`TYC5562-00446-1`**\n",
        "*   **`TYC5701-00197-1`**\n",
        "*   **`V*SX_Her`**\n",
        "\n",
        "**Double click the code block to edit it and write the code for the other stars.**\n",
        "\n"
      ]
    },
    {
      "cell_type": "code",
      "metadata": {
        "id": "L6I4X7Vr3otq"
      },
      "source": [
        "sheet = wb.worksheet('sheet1')\n",
        "data = np.array(sheet.get_all_values()[1:])\n",
        "mask = data == ''\n",
        "data[mask] = 'NaN'\n",
        "data = data.astype(float)\n",
        "wave1 = data[:,0]\n",
        "flux1 = data[:,1]\n",
        "label1 = 'HD141531'\n",
        "\n",
        "# Put the code to fill the other wave, flux, and label variables here"
      ],
      "execution_count": 9,
      "outputs": []
    },
    {
      "cell_type": "markdown",
      "metadata": {
        "id": "tNYRUnLOdDdA"
      },
      "source": [
        "## Question 2\n",
        "**If these spectra run from 6643 Å to 6646 Å, what color from the visible spectrum would the light appear? You can assume the visible spectrum runs from 3000 Å to 7000 Å.**\n"
      ]
    },
    {
      "cell_type": "markdown",
      "metadata": {
        "id": "n-295bIwsdYH"
      },
      "source": [
        "\n",
        "Double click here to answer:\n"
      ]
    },
    {
      "cell_type": "markdown",
      "metadata": {
        "id": "aCjEgz14HQfI"
      },
      "source": [
        "# Plotting the Spectrum of Each Star"
      ]
    },
    {
      "cell_type": "markdown",
      "metadata": {
        "id": "o6jLe5fAydUD"
      },
      "source": [
        "  This function interpolates a spectrum to make them smoother when plotting.\n",
        "  You won't need to change anything here but you will need to run the block\n",
        "  so the notebook learns this function and can use it later."
      ]
    },
    {
      "cell_type": "code",
      "metadata": {
        "id": "sH7PvaEYAVXo"
      },
      "source": [
        "def interp(w, f):\n",
        "  wInterp = np.linspace(w.min(),w.max(), 300)\n",
        "  spl = make_interp_spline(w, f)\n",
        "  fInterp = spl(wInterp)\n",
        "  return wInterp, fInterp"
      ],
      "execution_count": 10,
      "outputs": []
    },
    {
      "cell_type": "markdown",
      "metadata": {
        "id": "1JMhoJOzZyne"
      },
      "source": [
        "Add the interpolation step for the other stars using the variable names from your block above. Note the strange Python syntax on the left of the <code>**=**</code> symbol. The interp functions returns 2 chunks of data and not just one. This is called a tuple. Cool but weird.\n",
        "Also, the <code>**=**</code> does **not** do the same thing here as it does in algebra!\n",
        "\n",
        "**Double click the code blocks to edit them and write the code for the other stars.**"
      ]
    },
    {
      "cell_type": "code",
      "metadata": {
        "id": "D2sPg-rtBs-q"
      },
      "source": [
        "# Interpolate the data for smoother plots\n",
        "wave1, flux1 = interp(wave1,flux1)"
      ],
      "execution_count": 11,
      "outputs": []
    },
    {
      "cell_type": "code",
      "metadata": {
        "id": "BFpCiTbFDhee"
      },
      "source": [
        "# Add units to the fluxes and wavelengths\n",
        "flux1 = flux1*u.Unit('erg cm-2 s-1 AA-1')\n",
        "wave1 = wave1*u.AA"
      ],
      "execution_count": 12,
      "outputs": []
    },
    {
      "cell_type": "markdown",
      "metadata": {
        "id": "Trc3pdmwZwRO"
      },
      "source": [
        "You will use the common MatPlotLib library to plot all five stars on the same set of axes. The like **`ax.plot(wave1, flux1, label=label1)`** tells the axis object to plot **`wave1`** on the x-axis and **`flux1`** on the y-axis and to use **`label1`** in the legend.\n",
        "\n",
        "Go ahead and add **`ax.plot(<...>)`** lines for the other stars and run the block. If all goes well, the 5 stellar spectra should be all plotted together with each star name displayed by color in the legend.\n",
        "\n",
        "**Double click the code block to edit it and write the code for the other stars.**"
      ]
    },
    {
      "cell_type": "code",
      "metadata": {
        "id": "wYgoPWsd-OK1",
        "colab": {
          "base_uri": "https://localhost:8080/",
          "height": 730
        },
        "outputId": "78e1f022-5f77-45b7-84e1-6063091a8d3b"
      },
      "source": [
        "fig, ax = plt.subplots()\n",
        "fig.suptitle('Eu II Absorption Detection', fontsize='24')\n",
        "\n",
        "# Add the other plots here\n",
        "ax.plot(wave1, flux1, label=label1)\n",
        "\n",
        "# This displays 2 lines to mark Ni I and Eu II line locations.\n",
        "plt.axvline(x=6645.127,ls=':')\n",
        "plt.axvline(x=6643.638,ls=':')\n",
        "\n",
        "# This labels the x-axis and y-axis\n",
        "plt.xlabel('λ (Å)',fontsize='20')\n",
        "plt.ylabel('Relative flux', fontsize='20')\n",
        "\n",
        "# Display a grid\n",
        "plt.grid(True)\n",
        "\n",
        "# Turn on the legend.\n",
        "ax.legend(loc='best')\n",
        "\n",
        "# Display all the things we've setup.\n",
        "plt.show()"
      ],
      "execution_count": 13,
      "outputs": [
        {
          "output_type": "display_data",
          "data": {
            "text/plain": [
              "<Figure size 1040x715 with 1 Axes>"
            ],
            "image/png": "[encoded data removed]"
          },
          "metadata": {}
        }
      ]
    },
    {
      "cell_type": "markdown",
      "metadata": {
        "id": "Z59LtAp6fezr"
      },
      "source": [
        "## Question 3\n",
        "**What features do you see for the spectra? How many major features do you sees? How are spectra similar and how are they different? Remember to describe how the plots are shaped relative to one another.**"
      ]
    },
    {
      "cell_type": "markdown",
      "metadata": {
        "id": "_wyeDqJptUES"
      },
      "source": [
        "Double click here to answer:"
      ]
    },
    {
      "cell_type": "markdown",
      "metadata": {
        "id": "HvyME5fAgN5o"
      },
      "source": [
        "## Question 4\n",
        "**What do the dips represent? What does the wavelength of the lowest point in the dip represent? Hint: think how this is related to how a hydrogen atom can emit and absorb certain photons. [How do spectral lines form?](https://openstax.org/books/astronomy/pages/5-5-formation-of-spectral-lines)**"
      ]
    },
    {
      "cell_type": "markdown",
      "metadata": {
        "id": "s-U2-dzPtZrb"
      },
      "source": [
        "Double click here to answer:"
      ]
    },
    {
      "cell_type": "markdown",
      "metadata": {
        "id": "hSwIS4x1HjkA"
      },
      "source": [
        "# Determining atomic abundance: Equivalent Width"
      ]
    },
    {
      "cell_type": "markdown",
      "metadata": {
        "id": "J9BRVh9JOz7r"
      },
      "source": [
        "We can measure how much of a particular element is in a star using spectroscopy. We plot the spectrum and find a particular absorption feature associated with a particular element. Then we can use a clever approximation to get a sense of the amount of the element present. The approximation is called the equivalent width. The equivalent width calculation is fairly simple geometry that comes from some [very complicated stellar physics and chemistry](http://research.iac.es/congreso/itn-gaia2013/media/Primas2.pdf).\n",
        "\n",
        "$ W_{\\lambda}\\propto\\ Nhf\\lambda^2 $\n",
        "\n",
        "The equivalent width $ W_{\\lambda} $ varies as the number of atoms of that element, $ N $. The product $ hf $ is Planck's constant times the frequency of the absorption feature. $ \\lambda $ is the wavelength of the absorption feature. This strange notation is common for stellar spectroscopy."
      ]
    },
    {
      "cell_type": "markdown",
      "metadata": {
        "id": "fitSaRqktSyI"
      },
      "source": [
        "## Making the EW rectangle: Full-Width at Half Max"
      ]
    },
    {
      "cell_type": "markdown",
      "metadata": {
        "id": "DWzVxtxbY4eb"
      },
      "source": [
        "This code block hightlights the EW rectangle. Just run this block and don't edit anything. The results of the code are explained below."
      ]
    },
    {
      "cell_type": "code",
      "metadata": {
        "id": "2ndx-utcsu6S",
        "colab": {
          "base_uri": "https://localhost:8080/",
          "height": 730
        },
        "outputId": "407e485a-4a51-4f3c-8065-2e4081753e16"
      },
      "source": [
        "# Plot one of our stars and annotate the equivalent width.\n",
        "fig2, ax2 = plt.subplots()\n",
        "fig2.suptitle('Ni I Equivalent Width', fontsize='24')\n",
        "\n",
        "ax2.plot(wave1, flux1)\n",
        "\n",
        "plt.xlabel('λ (Å)',fontsize='20')\n",
        "plt.ylabel('Relative flux', fontsize='20')\n",
        "\n",
        "ax2.set_xlim([6643.3,6644])\n",
        "\n",
        "# Fill in the area under the curve and overlay a rectangle of equal area.\n",
        "# Green area\n",
        "trans = mtransforms.blended_transform_factory(ax.transData, ax.transAxes)\n",
        "ax2.fill_between(wave1, 1, flux1, where=flux1 < 1*u.Unit('erg cm-2 s-1 AA-1'),\n",
        "                 facecolor='green', interpolate=True, alpha=0.3)\n",
        "# Dark gray area.\n",
        "ax2.add_patch(plt.Rectangle((.29, .045), .358, 0.85, ec='k', fc=\"k\",\n",
        "                            alpha=0.3,  transform=ax2.transAxes))\n",
        "\n",
        "plt.axhline(y=1,ls='--',color='red',lw=2)\n",
        "\n",
        "plt.show()"
      ],
      "execution_count": 14,
      "outputs": [
        {
          "output_type": "display_data",
          "data": {
            "text/plain": [
              "<Figure size 1040x715 with 1 Axes>"
            ],
            "image/png": "[encoded data removed]"
          },
          "metadata": {}
        }
      ]
    },
    {
      "cell_type": "markdown",
      "metadata": {
        "id": "lGDresQjtZ6I"
      },
      "source": [
        "In order to find the equivalent width, you'll need to find the full-width at half-max (FWHM). Notice the inverted bell-curve shape in the absorption line for Nickel. Since the curve is upside down for our absorption region, we need to find the minimum y-value. That looks like around 0.45 below the flux axis. If we divide by 2 we get the half-max of 0.225 below 1. You can see the blue flux curve must go through this y-value twice. Once on the left at around 6643.5 Å and again on the right at around 6643.75 Å. The EW is then\n",
        "\n",
        "$$ EW = (6643.75Å-6643.5Å)(0.45) $$\n",
        "$$ = (0.25)(0.45)=112.5mÅ $$"
      ]
    },
    {
      "cell_type": "markdown",
      "metadata": {
        "id": "197wyPv56veG"
      },
      "source": [
        "### _The equivalent width is the area of rectangle that is **FWHW** wide by \"**max absorption**\" high. This area is almost exact the same as the area under the curve between 1 and the flux curve._"
      ]
    },
    {
      "cell_type": "markdown",
      "metadata": {
        "id": "yCCNi44RDZ4q"
      },
      "source": [
        "## Question 5\n",
        "**Choose one of the plots you made and estimate by eye the equivalent width for the Ni I line near 6643 Å. You need to estimate the depth of the curve below 1. Then divide that by 2 and find the left and right wavelengths where the curve has that same flux below 1. Multiply these numbers. The units are Å since the flux here is relative and has no units.**"
      ]
    },
    {
      "cell_type": "markdown",
      "metadata": {
        "id": "mECmI61_tiYR"
      },
      "source": [
        "Double click here to answer:\n",
        "* What star did you choose?\n",
        "* What is the max absorption below 1?\n",
        "* What is the half-max?\n",
        "* At what 2 wavelengths does the flux curve pass through the half-max point?\n",
        "* What is the equivalent width?\n",
        "(left wavelength - right wavelength)*(maximum absorption below 1)"
      ]
    },
    {
      "cell_type": "markdown",
      "metadata": {
        "id": "jWxGUkyETMxF"
      },
      "source": [
        "## Finding the Equivalent Width with SpecUtils"
      ]
    },
    {
      "cell_type": "markdown",
      "metadata": {
        "id": "hCpS9x5gTNSY"
      },
      "source": [
        "Here you are creating a spectrum from each star's flux and wavelength axis. This means you can use SpecUtils to determine the equivalent width for Ni I near 6643 Å and for Eu II near 6645 Å.\n",
        "\n",
        "**Double click the code blocks to edit them and write the code for the other stars.**"
      ]
    },
    {
      "cell_type": "code",
      "metadata": {
        "id": "GLAfOyAXYCVH"
      },
      "source": [
        "spec1 = Spectrum1D(spectral_axis=wave1, flux=flux1)"
      ],
      "execution_count": 15,
      "outputs": []
    },
    {
      "cell_type": "markdown",
      "metadata": {
        "id": "Y6q1jgQsfqaS"
      },
      "source": [
        "Add code to find the EW for Ni an Eu and also the ratio of Eu/Ni."
      ]
    },
    {
      "cell_type": "code",
      "metadata": {
        "id": "4-P1iPCP9QPC",
        "colab": {
          "base_uri": "https://localhost:8080/"
        },
        "outputId": "75283fda-0e1b-4eb1-8ad0-128a08153f9e"
      },
      "source": [
        "# Calculate the EW of Ni I and Eu II in their specific spectral regions.\n",
        "ni1 = equivalent_width(spec1, regions=SpectralRegion(6643.0*u.AA,6644*u.AA))\n",
        "eu1 = equivalent_width(spec1, regions=SpectralRegion(6645.0*u.AA,6645.5*u.AA))\n",
        "r1 = eu1/ni1\n",
        "\n",
        "# Rounding\n",
        "ni1 = np.round(ni1,3)\n",
        "eu1 = np.round(eu1,3)\n",
        "r1 = np.round(r1,3)\n",
        "\n",
        "# Print the EW or Ni I, Eu II, and their ratio.\n",
        "print('EW Ni I 6643A\\tEW Eu II 6645 A\\tEu/Ni\\tName') # Print a header row\n",
        "print(str(ni1)+'\\t'+str(eu1)+'\\t'+str(r1)+'\\t'+label1) # Print for target 1"
      ],
      "execution_count": 16,
      "outputs": [
        {
          "output_type": "stream",
          "name": "stdout",
          "text": [
            "EW Ni I 6643A\tEW Eu II 6645 A\tEu/Ni\tName\n",
            "0.11 Angstrom\t0.009 Angstrom\t0.083\tHD141531\n"
          ]
        }
      ]
    },
    {
      "cell_type": "markdown",
      "metadata": {
        "id": "wgQACCg5fOUA"
      },
      "source": [
        "## Question 6\n",
        "**Compare your calculation done by hand to that done by the code. Were you close? Why would we compare the 2 calculations? What could cause the calculation by hand and that from the computer to be different?**"
      ]
    },
    {
      "cell_type": "markdown",
      "metadata": {
        "id": "lnq-S8ThuNYe"
      },
      "source": [
        "Double click here to answer:"
      ]
    },
    {
      "cell_type": "markdown",
      "metadata": {
        "id": "eyz3q0sco2WR"
      },
      "source": [
        "# Stellar Nucleosythesis\n",
        "\n",
        "![https://physics.aps.org/articles/v9/s66](https://physics.aps.org/assets/96e56287-2b25-482b-b075-894adc7b2b10/es66_1.png)<br />Figure 6 - Artist conception of neutron capture event. (Stonebreaker, 2016)\n",
        "\n",
        "\n",
        "Heavy elements can be formed when neutrons smash into existing elements. The result is a left over proton in the nuclues. Adding a proton to a nucleus means you changed from atom to another. There are 2 types of stellar events that cause the rapid formation of elements: stellar explosions like a supernova and stellar mergers."
      ]
    },
    {
      "cell_type": "markdown",
      "metadata": {
        "id": "2qXGs4-6nPw2"
      },
      "source": [
        "## Neutron Capture r-process & s-process\n",
        "In 2017 astronomers observed a neutron star merger or kilonova. This event was so explosive and energetic that scientists observed the gravitational waves from the event. This type of merger is now thought to be the source of many heavy elements. Stellar explosions can cause rapid neutron capture or the r-process.\n",
        "\n",
        "Sometimes a random neutron inside a star slams into a nucleus and makes a heavier element. This process is rare so it takes a long time to build up an element this way. That's why it's called the slow or s-process.\n",
        "\n",
        "Europium is thought to mainly come from the r-process, although some europium comes from the s-process.\n",
        "<img src=\"https://i0.wp.com/www.jimmynewland.com/wp/wp-content/uploads/2019/12/image.png?w=667&ssl=1\" width=640 /><br />Figure 7 - Neutron capture decay pathway through s-process for xenon. (Sneden et al., 2008)\n"
      ]
    },
    {
      "cell_type": "markdown",
      "metadata": {
        "id": "74TvT2BXgT9R"
      },
      "source": [
        "## Question 7\n",
        "**If our target stars have comparable amounts of nickel, what measure should you use based on the results from the code? Rank the stars from most europium detected to least europium detected.**"
      ]
    },
    {
      "cell_type": "markdown",
      "metadata": {
        "id": "sj_0rDoKuXJ-"
      },
      "source": [
        "Double click here to answer:"
      ]
    },
    {
      "cell_type": "markdown",
      "metadata": {
        "id": "e6CPY1W5gzk4"
      },
      "source": [
        "## Question 8\n",
        "**These stars all have very similar properties like mass and temperature. Why do they have varying amounts of europium? You should be able to list 3 physical processes by which europium atoms ended up in these stars.**\n"
      ]
    },
    {
      "cell_type": "markdown",
      "metadata": {
        "id": "BDLENLD5uuAf"
      },
      "source": [
        "Double click here to answer:"
      ]
    },
    {
      "cell_type": "markdown",
      "metadata": {
        "id": "yWXV9KAusUd4"
      },
      "source": [
        "# HR Diagram\n",
        "Astronomers use the Hertzsprung-Russell Diagram to compare groups of stars and to look for patterns.\n",
        "<img src=\"https://openstax.org/resources/dd3b626194347b820b300c0437928fdb31869efd\" width=\"640\" /><br />Figure 8 - H-R diagram for a selected sample of stars. (Fraknoi et al., 2017)\n",
        "\n",
        "\n",
        "Here is a classic example of an HR diagram with some of the known groupings labeled.\n",
        "\n",
        "If you need a refresher on the HR diagram, take a look [here](https://openstax.org/books/astronomy/pages/18-4-the-h-r-diagram#OSC_Astro_18_04_Sample)"
      ]
    },
    {
      "cell_type": "markdown",
      "metadata": {
        "id": "_UkPn14yuvWb"
      },
      "source": [
        "![HR Diagram](http://www.jimmynewland.com/wp/wp-content/uploads/2020/08/Screen-Shot-2020-08-12-at-5.07.18-PM.png)<br />Figure 9 - H-R diagram for nearby stars, the sun, and our stellar targets.\n",
        "\n",
        "\n",
        "Here is an HR diagram of some of the nearest stars with our sun and out targets stars also plotted. The main sequence is the grouping of stars running from upper left to lower right and the red giant branch runs from the main sequence off to the upper right."
      ]
    },
    {
      "cell_type": "markdown",
      "metadata": {
        "id": "SUGEtR1DsXsR"
      },
      "source": [
        "## Question 9\n",
        "**Using the HR diagram, can you put the results of the EW measurements in context? Are all the targets the same age? What role could the s-process have for these stars?**"
      ]
    },
    {
      "cell_type": "markdown",
      "metadata": {
        "id": "07ldeiM6uz_1"
      },
      "source": [
        "Double click to answer:"
      ]
    },
    {
      "cell_type": "markdown",
      "metadata": {
        "id": "bxnNtsEOwQkJ"
      },
      "source": [
        "# Wrapping up\n",
        "\n",
        "That's it! Congrats on using code to explore an application of spectroscopy. Feel free to save a copy and explore the code further.\n",
        "\n",
        "**Be sure and save this completed notebook in your drive and be sure to share it with your instructor!**"
      ]
    },
    {
      "cell_type": "markdown",
      "metadata": {
        "id": "dDKPJ_jnw6qO"
      },
      "source": [
        "## Share and share alike!\n",
        "This activity was written by J. Newland and is meant to be shared. If you remix this work, let me know.\n",
        "[Reach out for comments or questions.](https://jimmynewland.com)\n",
        "\n",
        "<a rel=\"license\" href=\"http://creativecommons.org/licenses/by-nc-sa/4.0/\"><img alt=\"Creative Commons License\" style=\"border-width:0\" src=\"https://i.creativecommons.org/l/by-nc-sa/4.0/80x15.png\" /></a><br />This work is licensed under a <a rel=\"license\" href=\"http://creativecommons.org/licenses/by-nc-sa/4.0/\">Creative Commons Attribution-NonCommercial-ShareAlike 4.0 International License</a>.\n",
        "\n"
      ]
    },
    {
      "cell_type": "markdown",
      "metadata": {
        "id": "-U0bCa6exLu-"
      },
      "source": [
        "References\n",
        "* Commons, W. (2020). File:Nucleosynthesis periodic table.svg --- Wikimedia\n",
        "Commons{,} the free media repository. https://commons.wikimedia.org/w/index.php?title=File:Nucleosynthesis_periodic_table.svg&oldid=483860915\n",
        "* Fraknoi, A., Morrison, D., Wolff, S. C., OpenStax College, & Rice University. (2017). Astronomy. OpenStax, Rice University. https://openstax.org/details/books/astronomy\n",
        "* Newland, J., Grzybowski, E., Hickey, J., Kuper, O., Sneden, C., & Finkelstein, K. (2020). Authentic Astronomical Research as Science Teacher Professional Development.\n",
        "https://ui.adsabs.harvard.edu/abs/2020AAS...23536603N/abstract\n",
        "* Sakari, C. M., Roederer, I. U., Placco, V. M., Beers, T. C., Ezzeddine, R., Frebel, A., Hansen, T., Sneden, C., Cowan, J. J., Wallerstein, G., Farrell, E. M., Venn, K. A., Matijevič, G., Wyse, R. F. G., Bland-Hawthorn, J., Chiappini, C., Freeman, K. C., Gibson, B. K., Grebel, E. K., … Watson, F. (2019). The R -Process Alliance: Discovery of a Low- α , r -process-enhanced Metal-poor Star in the Galactic Halo . The Astrophysical Journal, 874(2), 148. https://doi.org/10.3847/1538-4357/ab0c02\n",
        "* Sneden, C. (2019). Observing Run Research Parameters. UT EXES Teacher Associate Program March 2nd 2019 Conference.\n",
        "Sneden, C., Cowan, J. J., & Gallino, R. (2008). Neutron-Capture Elements in the Early Galaxy. Annual Review of Astronomy and Astrophysics, 46(1), 241–288. https://doi.org/10.1146/annurev.astro.46.060407.145207\n",
        "* Soubiran, C., Le Campion, J. F., Cayrel De Strobel, G., & Caillo, A. (2010). The PASTEL catalogue of stellar parameters. Astronomy and Astrophysics, 515(11), 1–5. https://doi.org/10.1051/0004-6361/201014264\n",
        "* Stonebreaker, A. (2016). Neutron Capture Constraints. Physical Review Letters. https://physics.aps.org/assets/96e56287-2b25-482b-b075-894adc7b2b10/es66_1.png\n"
      ]
    }
  ]
}