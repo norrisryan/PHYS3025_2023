{
  "nbformat": 4,
  "nbformat_minor": 0,
  "metadata": {
    "colab": {
      "provenance": [],
      "authorship_tag": "ABX9TyNnfbdjqMjvk3Vtc3Y6/T5G",
      "include_colab_link": true
    },
    "kernelspec": {
      "name": "python3",
      "display_name": "Python 3"
    },
    "language_info": {
      "name": "python"
    }
  },
  "cells": [
    {
      "cell_type": "markdown",
      "metadata": {
        "id": "view-in-github",
        "colab_type": "text"
      },
      "source": [
        "<a href=\"https://colab.research.google.com/github/norrisryan/PHYS3025_2023/blob/main/PHYS3025_Activty2.ipynb\" target=\"_parent\"><img src=\"https://colab.research.google.com/assets/colab-badge.svg\" alt=\"Open In Colab\"/></a>"
      ]
    },
    {
      "cell_type": "markdown",
      "source": [
        " **Introduction**\n",
        "\n",
        " This week you'll be reviewing Python in order to enable you to use it to do some of your homework problems and also investigate random walks. The exercises are from Labs used in the Astro 330, Scientific Computing in Astrophysics course at Yale: https://astro-330.github.io/intro.html as well as\n"
      ],
      "metadata": {
        "id": "EAHLuTVKR2pB"
      }
    },
    {
      "cell_type": "markdown",
      "source": [
        "**Part 1**\n",
        "\n",
        "Here's what we want to do. I'll walk you through this.\n",
        "\n",
        "Create a 2D array of dimensions 1000 x 1000, in which the values in each pixel are random-gaussian distributed about a mean of 10, with a sigma of 2, and then use matplotlib to display this image. Make sure (0,0) is in the lower lefthand corner."
      ],
      "metadata": {
        "id": "y-yz-n7MSFuh"
      }
    },
    {
      "cell_type": "markdown",
      "source": [
        "The first thing we need to do is load some libraries. The way we do this in Python is we use the command\n",
        "\n",
        "\n",
        "```\n",
        "# import\n",
        "```\n",
        "\n",
        "Now it's not always immediately obvious what libraries we should import so you can search to figure out what libraries are available and what functions they have. In this case we need libraries that can do a few things.\n",
        "\n",
        "1) Gaussian distributions\n",
        "\n",
        "2) Plot\n",
        "\n",
        "The instructions tell us what library to use for plotting (there are some others that can be used but this is an old standard for Python): matplotlib.\n",
        "So we can use the command\n",
        "\n",
        "```\n",
        "# import matplotlib.pyplot as plt\n",
        "```\n",
        "to call it.\n",
        "\n",
        "But that's not quite enough. We also need to lod libraies with Gaussian distributions. One tht would work is numpy\n",
        "```\n",
        "#import numpy as numpy\n",
        "\n",
        "\n",
        "\n"
      ],
      "metadata": {
        "id": "qYN3SbHCSVnj"
      }
    },
    {
      "cell_type": "code",
      "source": [
        "# NOW MAKE THE CODE YOURSELF HERE"
      ],
      "metadata": {
        "id": "yidIiN7TSEqr"
      },
      "execution_count": null,
      "outputs": []
    },
    {
      "cell_type": "markdown",
      "source": [
        "Okay so we have our libraries. Now lets make that array\n",
        "If we look up making random distributions in numpy we find this page:\n",
        "https://numpy.org/doc/stable/reference/random/generated/numpy.random.normal.html\n",
        "\n",
        "and it offers this example mu,\n",
        "\n",
        "\n",
        "\n",
        "```\n",
        "random.normal(loc=0.0, scale=1.0, size=None)\n",
        "\n",
        "with\n",
        ":\n",
        "\n",
        "    loc\n",
        "    float or array_like of floats\n",
        "\n",
        "        Mean (“centre”) of the distribution.\n",
        "    scale\n",
        "    float or array_like of floats\n",
        "\n",
        "        Standard deviation (spread or “width”) of the distribution. Must be non-negative.\n",
        "    size\n",
        "    int or tuple of ints, optional\n",
        "```\n",
        "so for us our code would have loc = 10, scale =2 and size=(1000,1000)\n",
        "\n",
        "Then we want to image this so we'll have to matplotlib\n",
        "the code for this looks like\n",
        "\n",
        "\n",
        "```\n",
        "fig,ax = plt.subsplots(figsize=(10,10))\n",
        "ax.imshow(array,origin='lower')\n",
        "```\n",
        "where some of this is just formatting hints.\n",
        "\n",
        "Now make the code yourself.\n",
        "\n"
      ],
      "metadata": {
        "id": "QojETsJZ1be-"
      }
    },
    {
      "cell_type": "code",
      "source": [
        "# code here"
      ],
      "metadata": {
        "id": "hBmj49hV3Tmf"
      },
      "execution_count": null,
      "outputs": []
    },
    {
      "cell_type": "markdown",
      "source": [
        "We'll be talking about random walks on Tuesday. Let's make one with python!\n",
        "This is based on some simple code from geeksforgeeks.org.\n",
        "\n",
        "Let's start with a 1-D walk\n",
        "\n",
        "we need to import random, numpy and matplotlib.pyplot . Give that a try below.\n",
        "\n"
      ],
      "metadata": {
        "id": "d1GU7CqgTKCX"
      }
    },
    {
      "cell_type": "code",
      "source": [
        "# code here"
      ],
      "metadata": {
        "id": "73WFIui33-hY"
      },
      "execution_count": null,
      "outputs": []
    },
    {
      "cell_type": "markdown",
      "source": [
        "Next we'll set a probability for moving up or down in th walk as\n",
        "\n",
        "```\n",
        "# # Probability to move up or down\n",
        "prob = [low, high]\n",
        "```\n",
        "you can pick your down\n",
        "then we need to pick a starting position\n",
        "\n",
        "```\n",
        "# statically defining the starting position\n",
        "start = 2\n",
        "positions = [start]\n",
        " ```\n",
        " Next we need to make random points\n",
        " ```\n",
        "# creating the random points\n",
        "rr = np.random.random(1000)\n",
        "```\n",
        "Whereall we did is make some random numbers. You can print to see what it looks like.\n",
        "next we need to define if the walk is up or down that's going to be basd on whether a point is less than the probability or greater tha the probability\n",
        "```\n",
        "downp = rr < prob[0]\n",
        "upp = rr > prob[1]\n",
        " ```\n",
        " okay final thing is to make a loop and update our poitions\n",
        " We'll have to loop over all our points. One way to do this is a for loop which goes through all of the points.  There are other ways too. Think about this and give one a try. The pseudocode is like\n",
        " ```\n",
        "for thepoints in the groupofpoints:\n",
        "    #move based on whether a point is a up or down step\n",
        "    #append to your code\n",
        "\n",
        "```\n",
        "Then we just plot  using similar code as before.\n",
        "```\n",
        "# plotting down the graph of the random walk in 1D\n",
        "plt.plot(positions)\n",
        "plt.show()\n",
        "```\n",
        "\n"
      ],
      "metadata": {
        "id": "pPI1OH5f3_xt"
      }
    },
    {
      "cell_type": "code",
      "source": [
        "# code here"
      ],
      "metadata": {
        "id": "9WLVljzM5f3V"
      },
      "execution_count": null,
      "outputs": []
    },
    {
      "cell_type": "markdown",
      "source": [
        "We can do something similar for multipl dimensions and it looks cooler. Let's try it.\n",
        "\n",
        "This time let's make way more steps. Like 1000000\n",
        "\n",
        "We'll need t have an array for x and y one way to do this is\n",
        "```\n",
        "x=np.zeros(n)\n",
        "y=np.zeros(n)\n",
        "```\n",
        "Where n is our steps.\n",
        "Then we will fill up our array with numbers based on the walk\n",
        "so maybe another for loop\n",
        "```\n",
        "for i in range(1,n): #this will go through all our steps\n",
        "  val =random.randint(1,4) # we have four possible steps\n",
        "  if val == 1:\n",
        "    #new location is previous location+1 in x\n",
        "    #new location in y is previous locaion\n",
        "    elseif val == 2:\n",
        "      #step back in x and stay in y\n",
        "    elseif val == 3:\n",
        "      #stay  in x and step up in y\n",
        "    else: #4 is the only option left\n",
        "      #stay in x and step down in y\n",
        "    ```\n",
        "  Then we just plot\n",
        "\n",
        "  #Think abou how you could do this in 3 dimensions and give it a try if you want but all you need to submit is a 2d\n"
      ],
      "metadata": {
        "id": "anuxv0K25jq3"
      }
    },
    {
      "cell_type": "code",
      "source": [
        "# Code here"
      ],
      "metadata": {
        "id": "FzdIx3C96zZW"
      },
      "execution_count": null,
      "outputs": []
    }
  ]
}